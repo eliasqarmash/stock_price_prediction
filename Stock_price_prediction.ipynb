{
  "nbformat": 4,
  "nbformat_minor": 0,
  "metadata": {
    "colab": {
      "name": "Stock_price_prediction.ipynb",
      "provenance": []
    },
    "kernelspec": {
      "name": "python3",
      "display_name": "Python 3"
    },
    "language_info": {
      "name": "python"
    }
  },
  "cells": [
    {
      "cell_type": "code",
      "execution_count": 2,
      "metadata": {
        "id": "qOCcAoeUL8kn"
      },
      "outputs": [],
      "source": [
        "# Import libraries\n",
        "import os\n",
        "import numpy as np\n",
        "import pandas as pd\n",
        "import matplotlib.pyplot as plt\n"
      ]
    },
    {
      "cell_type": "code",
      "source": [
        "dataset_train = pd.read_csv(\"/content/AOPT_Sheet1.csv\")\n",
        "dataset_train.head ()"
      ],
      "metadata": {
        "colab": {
          "base_uri": "https://localhost:8080/",
          "height": 206
        },
        "id": "pLhos-iTMCFp",
        "outputId": "783822f3-b2f5-44e8-8291-50b33c56ad4f"
      },
      "execution_count": 3,
      "outputs": [
        {
          "output_type": "execute_result",
          "data": {
            "text/html": [
              "\n",
              "  <div id=\"df-5e30e1a0-13bb-40b8-8e1e-49cf6bdcd149\">\n",
              "    <div class=\"colab-df-container\">\n",
              "      <div>\n",
              "<style scoped>\n",
              "    .dataframe tbody tr th:only-of-type {\n",
              "        vertical-align: middle;\n",
              "    }\n",
              "\n",
              "    .dataframe tbody tr th {\n",
              "        vertical-align: top;\n",
              "    }\n",
              "\n",
              "    .dataframe thead th {\n",
              "        text-align: right;\n",
              "    }\n",
              "</style>\n",
              "<table border=\"1\" class=\"dataframe\">\n",
              "  <thead>\n",
              "    <tr style=\"text-align: right;\">\n",
              "      <th></th>\n",
              "      <th>Date</th>\n",
              "      <th>close price</th>\n",
              "    </tr>\n",
              "  </thead>\n",
              "  <tbody>\n",
              "    <tr>\n",
              "      <th>0</th>\n",
              "      <td>04-01-2015</td>\n",
              "      <td>19.50</td>\n",
              "    </tr>\n",
              "    <tr>\n",
              "      <th>1</th>\n",
              "      <td>05-01-2015</td>\n",
              "      <td>19.00</td>\n",
              "    </tr>\n",
              "    <tr>\n",
              "      <th>2</th>\n",
              "      <td>06-01-2015</td>\n",
              "      <td>19.00</td>\n",
              "    </tr>\n",
              "    <tr>\n",
              "      <th>3</th>\n",
              "      <td>12-01-2015</td>\n",
              "      <td>18.95</td>\n",
              "    </tr>\n",
              "    <tr>\n",
              "      <th>4</th>\n",
              "      <td>13-01-2015</td>\n",
              "      <td>18.92</td>\n",
              "    </tr>\n",
              "  </tbody>\n",
              "</table>\n",
              "</div>\n",
              "      <button class=\"colab-df-convert\" onclick=\"convertToInteractive('df-5e30e1a0-13bb-40b8-8e1e-49cf6bdcd149')\"\n",
              "              title=\"Convert this dataframe to an interactive table.\"\n",
              "              style=\"display:none;\">\n",
              "        \n",
              "  <svg xmlns=\"http://www.w3.org/2000/svg\" height=\"24px\"viewBox=\"0 0 24 24\"\n",
              "       width=\"24px\">\n",
              "    <path d=\"M0 0h24v24H0V0z\" fill=\"none\"/>\n",
              "    <path d=\"M18.56 5.44l.94 2.06.94-2.06 2.06-.94-2.06-.94-.94-2.06-.94 2.06-2.06.94zm-11 1L8.5 8.5l.94-2.06 2.06-.94-2.06-.94L8.5 2.5l-.94 2.06-2.06.94zm10 10l.94 2.06.94-2.06 2.06-.94-2.06-.94-.94-2.06-.94 2.06-2.06.94z\"/><path d=\"M17.41 7.96l-1.37-1.37c-.4-.4-.92-.59-1.43-.59-.52 0-1.04.2-1.43.59L10.3 9.45l-7.72 7.72c-.78.78-.78 2.05 0 2.83L4 21.41c.39.39.9.59 1.41.59.51 0 1.02-.2 1.41-.59l7.78-7.78 2.81-2.81c.8-.78.8-2.07 0-2.86zM5.41 20L4 18.59l7.72-7.72 1.47 1.35L5.41 20z\"/>\n",
              "  </svg>\n",
              "      </button>\n",
              "      \n",
              "  <style>\n",
              "    .colab-df-container {\n",
              "      display:flex;\n",
              "      flex-wrap:wrap;\n",
              "      gap: 12px;\n",
              "    }\n",
              "\n",
              "    .colab-df-convert {\n",
              "      background-color: #E8F0FE;\n",
              "      border: none;\n",
              "      border-radius: 50%;\n",
              "      cursor: pointer;\n",
              "      display: none;\n",
              "      fill: #1967D2;\n",
              "      height: 32px;\n",
              "      padding: 0 0 0 0;\n",
              "      width: 32px;\n",
              "    }\n",
              "\n",
              "    .colab-df-convert:hover {\n",
              "      background-color: #E2EBFA;\n",
              "      box-shadow: 0px 1px 2px rgba(60, 64, 67, 0.3), 0px 1px 3px 1px rgba(60, 64, 67, 0.15);\n",
              "      fill: #174EA6;\n",
              "    }\n",
              "\n",
              "    [theme=dark] .colab-df-convert {\n",
              "      background-color: #3B4455;\n",
              "      fill: #D2E3FC;\n",
              "    }\n",
              "\n",
              "    [theme=dark] .colab-df-convert:hover {\n",
              "      background-color: #434B5C;\n",
              "      box-shadow: 0px 1px 3px 1px rgba(0, 0, 0, 0.15);\n",
              "      filter: drop-shadow(0px 1px 2px rgba(0, 0, 0, 0.3));\n",
              "      fill: #FFFFFF;\n",
              "    }\n",
              "  </style>\n",
              "\n",
              "      <script>\n",
              "        const buttonEl =\n",
              "          document.querySelector('#df-5e30e1a0-13bb-40b8-8e1e-49cf6bdcd149 button.colab-df-convert');\n",
              "        buttonEl.style.display =\n",
              "          google.colab.kernel.accessAllowed ? 'block' : 'none';\n",
              "\n",
              "        async function convertToInteractive(key) {\n",
              "          const element = document.querySelector('#df-5e30e1a0-13bb-40b8-8e1e-49cf6bdcd149');\n",
              "          const dataTable =\n",
              "            await google.colab.kernel.invokeFunction('convertToInteractive',\n",
              "                                                     [key], {});\n",
              "          if (!dataTable) return;\n",
              "\n",
              "          const docLinkHtml = 'Like what you see? Visit the ' +\n",
              "            '<a target=\"_blank\" href=https://colab.research.google.com/notebooks/data_table.ipynb>data table notebook</a>'\n",
              "            + ' to learn more about interactive tables.';\n",
              "          element.innerHTML = '';\n",
              "          dataTable['output_type'] = 'display_data';\n",
              "          await google.colab.output.renderOutput(dataTable, element);\n",
              "          const docLink = document.createElement('div');\n",
              "          docLink.innerHTML = docLinkHtml;\n",
              "          element.appendChild(docLink);\n",
              "        }\n",
              "      </script>\n",
              "    </div>\n",
              "  </div>\n",
              "  "
            ],
            "text/plain": [
              "         Date  close price\n",
              "0  04-01-2015        19.50\n",
              "1  05-01-2015        19.00\n",
              "2  06-01-2015        19.00\n",
              "3  12-01-2015        18.95\n",
              "4  13-01-2015        18.92"
            ]
          },
          "metadata": {},
          "execution_count": 3
        }
      ]
    },
    {
      "cell_type": "code",
      "source": [
        "training_set = dataset_train.iloc[ :,1: 2].values\n",
        "print(training_set)\n",
        "print(training_set.shape)"
      ],
      "metadata": {
        "colab": {
          "base_uri": "https://localhost:8080/"
        },
        "id": "ziuGN1jNMCIe",
        "outputId": "98b43f8f-640b-42f4-f143-db5e504baa34"
      },
      "execution_count": 4,
      "outputs": [
        {
          "output_type": "stream",
          "name": "stdout",
          "text": [
            "[[19.5 ]\n",
            " [19.  ]\n",
            " [19.  ]\n",
            " ...\n",
            " [26.39]\n",
            " [26.35]\n",
            " [26.35]]\n",
            "(1673, 1)\n"
          ]
        }
      ]
    },
    {
      "cell_type": "markdown",
      "source": [
        "# Normalizing the Dataset"
      ],
      "metadata": {
        "id": "BPNZyD2LYMaH"
      }
    },
    {
      "cell_type": "code",
      "source": [
        "from sklearn.preprocessing import MinMaxScaler\n",
        "scaler = MinMaxScaler (feature_range = (0,1))\n",
        "scaled_training_set = scaler.fit_transform(training_set)\n",
        "scaled_training_set"
      ],
      "metadata": {
        "colab": {
          "base_uri": "https://localhost:8080/"
        },
        "id": "sWPyXUBmMCLB",
        "outputId": "a81e9922-63f8-4167-88c7-31d12e42c8f5"
      },
      "execution_count": 5,
      "outputs": [
        {
          "output_type": "execute_result",
          "data": {
            "text/plain": [
              "array([[0.269085  ],\n",
              "       [0.24201408],\n",
              "       [0.24201408],\n",
              "       ...,\n",
              "       [0.64212236],\n",
              "       [0.63995669],\n",
              "       [0.63995669]])"
            ]
          },
          "metadata": {},
          "execution_count": 5
        }
      ]
    },
    {
      "cell_type": "markdown",
      "source": [
        "# Creating X_train and y_train Data Structures"
      ],
      "metadata": {
        "id": "Vx4yIwWuYd8v"
      }
    },
    {
      "cell_type": "code",
      "source": [
        "X_train = []\n",
        "y_train = []\n",
        "for i in range(60,1673):\n",
        "  X_train.append(scaled_training_set[i-60:i, 0])\n",
        "  y_train.append(scaled_training_set[i, 0])\n",
        "X_train = np.array(X_train)\n",
        "y_train = np.array(y_train)"
      ],
      "metadata": {
        "id": "JRWgMsKyMCN7"
      },
      "execution_count": 8,
      "outputs": []
    },
    {
      "cell_type": "code",
      "source": [
        "print(X_train.shape)\n",
        "print(y_train.shape)"
      ],
      "metadata": {
        "colab": {
          "base_uri": "https://localhost:8080/"
        },
        "id": "rB1pe81HMCRG",
        "outputId": "23aae60b-d711-42f8-e713-851e95025275"
      },
      "execution_count": 10,
      "outputs": [
        {
          "output_type": "stream",
          "name": "stdout",
          "text": [
            "(1613, 60)\n",
            "(1613,)\n"
          ]
        }
      ]
    },
    {
      "cell_type": "markdown",
      "source": [
        "#Reshape the Data"
      ],
      "metadata": {
        "id": "l5J1fVDGZTGL"
      }
    },
    {
      "cell_type": "code",
      "source": [
        "X_train = np.reshape (X_train, (X_train.shape [0], X_train.shape[1], 1))\n",
        "X_train.shape"
      ],
      "metadata": {
        "colab": {
          "base_uri": "https://localhost:8080/"
        },
        "id": "u08SW8IHMCYL",
        "outputId": "bea16120-d150-438e-dd82-6f4ed140c1dc"
      },
      "execution_count": 12,
      "outputs": [
        {
          "output_type": "execute_result",
          "data": {
            "text/plain": [
              "(1613, 60, 1)"
            ]
          },
          "metadata": {},
          "execution_count": 12
        }
      ]
    },
    {
      "cell_type": "markdown",
      "source": [
        "# Building the Model by Importing the Crucial Libraries and Adding Different Layers to LSTM"
      ],
      "metadata": {
        "id": "wkmA0V4vZh48"
      }
    },
    {
      "cell_type": "code",
      "source": [
        "from keras.models import Sequential\n",
        "from keras.layers import LSTM\n",
        "from keras.layers import Dense\n",
        "from keras.layers import Dropout"
      ],
      "metadata": {
        "id": "83U6OcN_Zp8v"
      },
      "execution_count": 13,
      "outputs": []
    },
    {
      "cell_type": "code",
      "source": [
        "regressor = Sequential ()\n",
        "regressor.add(LSTM(units = 50, return_sequences= True, input_shape=(X_train. shape [1], 1)))\n",
        "regressor.add(Dropout (.2))\n",
        "\n",
        "regressor.add(LSTM(units = 50, return_sequences= True))\n",
        "regressor.add (Dropout (.2))\n",
        "\n",
        "regressor.add (LSTM(units = 58, return_sequences= True))\n",
        "regressor.add (Dropout (.2))\n",
        "\n",
        "regressor.add (LSTM(units = 50))\n",
        "regressor.add (Dropout (.2))\n",
        "               \n",
        "regressor.add (Dense (units=1))"
      ],
      "metadata": {
        "id": "NsLefYXyZp_b"
      },
      "execution_count": 15,
      "outputs": []
    },
    {
      "cell_type": "code",
      "source": [
        "from tensorflow.keras.utils import plot_model"
      ],
      "metadata": {
        "id": "Xx0fXpu6adXI"
      },
      "execution_count": 16,
      "outputs": []
    },
    {
      "cell_type": "code",
      "source": [
        "plot_model(regressor, to_file='model_plot.png', show_shapes=True, show_layer_names=True)"
      ],
      "metadata": {
        "colab": {
          "base_uri": "https://localhost:8080/",
          "height": 1000
        },
        "id": "1v5tE0lpadaM",
        "outputId": "fc0d957e-a36d-46b5-a329-07577ecd9d61"
      },
      "execution_count": 18,
      "outputs": [
        {
          "output_type": "execute_result",
          "data": {
            "image/png": "[encoded data removed]",
            "text/plain": [
              "<IPython.core.display.Image object>"
            ]
          },
          "metadata": {},
          "execution_count": 18
        }
      ]
    },
    {
      "cell_type": "markdown",
      "source": [
        "#Fitting the Model"
      ],
      "metadata": {
        "id": "UAF_6Sg2bPTB"
      }
    },
    {
      "cell_type": "code",
      "source": [
        "regressor.compile(optimizer = 'adam', loss= \"mean_squared_error\")\n",
        "regressor.fit(X_train, y_train, epochs=16, batch_size=32)"
      ],
      "metadata": {
        "colab": {
          "base_uri": "https://localhost:8080/"
        },
        "id": "62WZP1kSbRlh",
        "outputId": "257681f3-d074-4c23-ea5c-1e693db8c9cb"
      },
      "execution_count": 20,
      "outputs": [
        {
          "output_type": "stream",
          "name": "stdout",
          "text": [
            "Epoch 1/16\n",
            "51/51 [==============================] - 14s 127ms/step - loss: 0.0029\n",
            "Epoch 2/16\n",
            "51/51 [==============================] - 7s 130ms/step - loss: 0.0026\n",
            "Epoch 3/16\n",
            "51/51 [==============================] - 7s 129ms/step - loss: 0.0025\n",
            "Epoch 4/16\n",
            "51/51 [==============================] - 7s 127ms/step - loss: 0.0026\n",
            "Epoch 5/16\n",
            "51/51 [==============================] - 7s 129ms/step - loss: 0.0024\n",
            "Epoch 6/16\n",
            "51/51 [==============================] - 7s 128ms/step - loss: 0.0023\n",
            "Epoch 7/16\n",
            "51/51 [==============================] - 7s 130ms/step - loss: 0.0021\n",
            "Epoch 8/16\n",
            "51/51 [==============================] - 7s 128ms/step - loss: 0.0022\n",
            "Epoch 9/16\n",
            "51/51 [==============================] - 7s 128ms/step - loss: 0.0020\n",
            "Epoch 10/16\n",
            "51/51 [==============================] - 7s 130ms/step - loss: 0.0019\n",
            "Epoch 11/16\n",
            "51/51 [==============================] - 7s 130ms/step - loss: 0.0021\n",
            "Epoch 12/16\n",
            "51/51 [==============================] - 7s 129ms/step - loss: 0.0017\n",
            "Epoch 13/16\n",
            "51/51 [==============================] - 7s 128ms/step - loss: 0.0015\n",
            "Epoch 14/16\n",
            "51/51 [==============================] - 7s 128ms/step - loss: 0.0015\n",
            "Epoch 15/16\n",
            "51/51 [==============================] - 7s 130ms/step - loss: 0.0017\n",
            "Epoch 16/16\n",
            "51/51 [==============================] - 7s 130ms/step - loss: 0.0014\n"
          ]
        },
        {
          "output_type": "execute_result",
          "data": {
            "text/plain": [
              "<keras.callbacks.History at 0x7f653f3c7390>"
            ]
          },
          "metadata": {},
          "execution_count": 20
        }
      ]
    },
    {
      "cell_type": "markdown",
      "source": [
        "# Extracting the Actual Stock Prices of last 20 days"
      ],
      "metadata": {
        "id": "ZfaZghb7b5Nq"
      }
    },
    {
      "cell_type": "code",
      "source": [
        "dataset_test= pd.read_csv(\"/content/APOT_test.csv\")\n",
        "actual_stock_price = dataset_test.iloc[:,1:2].values"
      ],
      "metadata": {
        "id": "ENLDJeURb5y_"
      },
      "execution_count": 51,
      "outputs": []
    },
    {
      "cell_type": "code",
      "source": [
        "print(actual_stock_price)"
      ],
      "metadata": {
        "colab": {
          "base_uri": "https://localhost:8080/"
        },
        "id": "TXbz5v3Kb5_h",
        "outputId": "d8accb85-20c7-4964-bedd-77324f81e1ca"
      },
      "execution_count": 52,
      "outputs": [
        {
          "output_type": "stream",
          "name": "stdout",
          "text": [
            "[[26.4 ]\n",
            " [26.49]\n",
            " [26.31]\n",
            " [26.95]\n",
            " [26.75]\n",
            " [26.8 ]\n",
            " [26.5 ]\n",
            " [26.38]\n",
            " [26.4 ]\n",
            " [26.68]\n",
            " [26.45]\n",
            " [26.62]\n",
            " [26.62]\n",
            " [26.4 ]\n",
            " [26.4 ]\n",
            " [26.35]\n",
            " [26.35]\n",
            " [26.39]\n",
            " [26.35]\n",
            " [26.35]]\n"
          ]
        }
      ]
    },
    {
      "cell_type": "markdown",
      "source": [
        "# Preparing the Input for the Model"
      ],
      "metadata": {
        "id": "IrJWn8jJtG0f"
      }
    },
    {
      "cell_type": "code",
      "source": [
        "dataset_total = pd.concat((dataset_train['close price'], dataset_test['close price']), axis = 0)\n",
        "inputs= dataset_total [len(dataset_total)- len(dataset_test) -60 : ].values\n",
        "\n",
        "inputs= inputs.reshape(-1,1)\n",
        "inputs= scaler.transform(inputs)\n",
        "\n",
        "X_test= []\n",
        "for i in range(60, 80):\n",
        "  X_test.append (inputs[i -60:i, 0])\n",
        "X_test = np.array(X_test)\n",
        "X_test = np.reshape(X_test,(X_test.shape[0], X_test.shape [1], 1))"
      ],
      "metadata": {
        "id": "Yg5V8I_UbRoW"
      },
      "execution_count": 53,
      "outputs": []
    },
    {
      "cell_type": "markdown",
      "source": [
        "# Predicting the Values for last 20 days of Stock Prices"
      ],
      "metadata": {
        "id": "4QD8P8iQs3Y4"
      }
    },
    {
      "cell_type": "code",
      "source": [
        "predicted_stock_price= regressor.predict(X_test)\n",
        "predicted_stock_price = scaler.inverse_transform(predicted_stock_price)"
      ],
      "metadata": {
        "id": "DC2-yk5obRq-"
      },
      "execution_count": 54,
      "outputs": []
    },
    {
      "cell_type": "markdown",
      "source": [
        "# Plotting the Actual and Predicted Prices for APOT Stocks"
      ],
      "metadata": {
        "id": "SUnqDtb-s_JQ"
      }
    },
    {
      "cell_type": "code",
      "source": [
        "plt.plot(actual_stock_price, color = 'green', label = 'Actual APOT Stock Price ')\n",
        "plt.plot(predicted_stock_price, color = 'blue', label = 'Predicted APOT Stock Price')\n",
        "plt.title('APOT Stock Price Prediction')\n",
        "plt.xlabel('Time' )\n",
        "plt.ylabel('AOPT Stock Price')\n",
        "plt.legend ()"
      ],
      "metadata": {
        "colab": {
          "base_uri": "https://localhost:8080/",
          "height": 312
        },
        "id": "iVKpjaLefWUI",
        "outputId": "bbefc195-56aa-4f30-b5a3-35411306fe69"
      },
      "execution_count": 55,
      "outputs": [
        {
          "output_type": "execute_result",
          "data": {
            "text/plain": [
              "<matplotlib.legend.Legend at 0x7f653b3bced0>"
            ]
          },
          "metadata": {},
          "execution_count": 55
        },
        {
          "output_type": "display_data",
          "data": {
            "image/png": "[encoded data removed]",
            "text/plain": [
              "<Figure size 432x288 with 1 Axes>"
            ]
          },
          "metadata": {
            "needs_background": "light"
          }
        }
      ]
    },
    {
      "cell_type": "markdown",
      "source": [
        "As you can see above, the model can predict the trend of the actual stock prices very closely. The accuracy of the model can be enhanced by training with more data and increasing the LSTM layers. I also recommend using batch normalization to maintain wweights as model gets bigger. My final recommendation is training the model more, this model is underfit as it has only gone through 16 epochs. \n"
      ],
      "metadata": {
        "id": "1zmd9i3-jcxE"
      }
    },
    {
      "cell_type": "markdown",
      "source": [
        "#Testing accuracy of model"
      ],
      "metadata": {
        "id": "WSXE8k22tJcX"
      }
    },
    {
      "cell_type": "code",
      "source": [
        "from sklearn.metrics import mean_squared_error\n",
        "from math import sqrt\n",
        "mse = mean_squared_error(actual_stock_price, predicted_stock_price)\n",
        "rmse = sqrt(mse)\n",
        "print('RMSE: %f' % rmse)"
      ],
      "metadata": {
        "colab": {
          "base_uri": "https://localhost:8080/"
        },
        "id": "6Rz1FkDljein",
        "outputId": "69595cb4-a7ea-4b6b-8511-201fe4c7d030"
      },
      "execution_count": 56,
      "outputs": [
        {
          "output_type": "stream",
          "name": "stdout",
          "text": [
            "RMSE: 0.507754\n"
          ]
        }
      ]
    },
    {
      "cell_type": "code",
      "source": [
        "from sklearn.metrics import mean_absolute_error\n",
        "mae = mean_absolute_error(actual_stock_price, predicted_stock_price)\n",
        "print('MAE: %f' % mae)"
      ],
      "metadata": {
        "colab": {
          "base_uri": "https://localhost:8080/"
        },
        "id": "wk5QjYXxkKwD",
        "outputId": "dc765220-c2d6-4e9c-e972-9a84460977f9"
      },
      "execution_count": 57,
      "outputs": [
        {
          "output_type": "stream",
          "name": "stdout",
          "text": [
            "MAE: 0.470790\n"
          ]
        }
      ]
    },
    {
      "cell_type": "markdown",
      "source": [
        "We used root mean squared error to measure accuracy and mean absolute error to describe error in the same units as the predictions. We can conclude that the model needs work as the RMSE and MAE values are very high."
      ],
      "metadata": {
        "id": "IxemY414oK45"
      }
    }
  ]
}